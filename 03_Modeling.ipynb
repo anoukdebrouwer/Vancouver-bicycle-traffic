{
 "cells": [
  {
   "cell_type": "markdown",
   "metadata": {},
   "source": [
    "# Data processing and modeling"
   ]
  },
  {
   "cell_type": "markdown",
   "metadata": {},
   "source": [
    "* Build the processsing pipeline:\n",
    "    * Fill in missing values\n",
    "    * Binarize precipitation variables\n",
    "    * Scale numerical variables\n",
    "* Fit a baseline model: linear regression\n",
    "* Fit a random forest regression model:\n",
    "    * Find optimal tree depth\n",
    "    * Fit final model"
   ]
  },
  {
   "cell_type": "code",
   "execution_count": 1,
   "metadata": {},
   "outputs": [],
   "source": [
    "# load libraries\n",
    "import numpy as np\n",
    "import pandas as pd\n",
    "import matplotlib.pyplot as plt\n",
    "from sklearn import linear_model\n",
    "from sklearn.base import BaseEstimator, TransformerMixin\n",
    "from sklearn.compose import ColumnTransformer\n",
    "from sklearn.ensemble import RandomForestRegressor\n",
    "from sklearn.impute import SimpleImputer\n",
    "from sklearn.metrics import mean_absolute_error\n",
    "from sklearn.model_selection import ShuffleSplit, cross_val_score\n",
    "from sklearn.pipeline import Pipeline\n",
    "from sklearn.preprocessing import Binarizer, StandardScaler\n",
    "%matplotlib inline"
   ]
  },
  {
   "cell_type": "markdown",
   "metadata": {},
   "source": [
    "## Load the data"
   ]
  },
  {
   "cell_type": "code",
   "execution_count": 2,
   "metadata": {},
   "outputs": [
    {
     "data": {
      "text/html": [
       "<div>\n",
       "<style scoped>\n",
       "    .dataframe tbody tr th:only-of-type {\n",
       "        vertical-align: middle;\n",
       "    }\n",
       "\n",
       "    .dataframe tbody tr th {\n",
       "        vertical-align: top;\n",
       "    }\n",
       "\n",
       "    .dataframe thead th {\n",
       "        text-align: right;\n",
       "    }\n",
       "</style>\n",
       "<table border=\"1\" class=\"dataframe\">\n",
       "  <thead>\n",
       "    <tr style=\"text-align: right;\">\n",
       "      <th></th>\n",
       "      <th>month</th>\n",
       "      <th>day</th>\n",
       "      <th>wx_max_temp_c</th>\n",
       "      <th>wx_min_temp_c</th>\n",
       "      <th>wx_mean_temp_c</th>\n",
       "      <th>wx_total_rain_mm</th>\n",
       "      <th>wx_total_snow_cm</th>\n",
       "      <th>wx_total_precip_mm</th>\n",
       "      <th>wx_snow_on_grnd_cm</th>\n",
       "      <th>day_of_week</th>\n",
       "      <th>is_holiday</th>\n",
       "    </tr>\n",
       "    <tr>\n",
       "      <th>Date</th>\n",
       "      <th></th>\n",
       "      <th></th>\n",
       "      <th></th>\n",
       "      <th></th>\n",
       "      <th></th>\n",
       "      <th></th>\n",
       "      <th></th>\n",
       "      <th></th>\n",
       "      <th></th>\n",
       "      <th></th>\n",
       "      <th></th>\n",
       "    </tr>\n",
       "  </thead>\n",
       "  <tbody>\n",
       "    <tr>\n",
       "      <th>2019-01-01</th>\n",
       "      <td>1</td>\n",
       "      <td>1</td>\n",
       "      <td>5.3</td>\n",
       "      <td>0.8</td>\n",
       "      <td>3.1</td>\n",
       "      <td>0.0</td>\n",
       "      <td>0.0</td>\n",
       "      <td>0.0</td>\n",
       "      <td>0.0</td>\n",
       "      <td>1</td>\n",
       "      <td>True</td>\n",
       "    </tr>\n",
       "    <tr>\n",
       "      <th>2019-01-02</th>\n",
       "      <td>1</td>\n",
       "      <td>2</td>\n",
       "      <td>5.5</td>\n",
       "      <td>2.4</td>\n",
       "      <td>4.0</td>\n",
       "      <td>3.4</td>\n",
       "      <td>0.0</td>\n",
       "      <td>3.4</td>\n",
       "      <td>0.0</td>\n",
       "      <td>2</td>\n",
       "      <td>False</td>\n",
       "    </tr>\n",
       "    <tr>\n",
       "      <th>2019-01-03</th>\n",
       "      <td>1</td>\n",
       "      <td>3</td>\n",
       "      <td>9.5</td>\n",
       "      <td>4.5</td>\n",
       "      <td>7.0</td>\n",
       "      <td>54.8</td>\n",
       "      <td>0.0</td>\n",
       "      <td>54.8</td>\n",
       "      <td>0.0</td>\n",
       "      <td>3</td>\n",
       "      <td>False</td>\n",
       "    </tr>\n",
       "    <tr>\n",
       "      <th>2019-01-04</th>\n",
       "      <td>1</td>\n",
       "      <td>4</td>\n",
       "      <td>10.4</td>\n",
       "      <td>6.1</td>\n",
       "      <td>8.3</td>\n",
       "      <td>9.6</td>\n",
       "      <td>0.0</td>\n",
       "      <td>9.6</td>\n",
       "      <td>0.0</td>\n",
       "      <td>4</td>\n",
       "      <td>False</td>\n",
       "    </tr>\n",
       "    <tr>\n",
       "      <th>2019-01-05</th>\n",
       "      <td>1</td>\n",
       "      <td>5</td>\n",
       "      <td>8.7</td>\n",
       "      <td>5.3</td>\n",
       "      <td>7.0</td>\n",
       "      <td>3.2</td>\n",
       "      <td>0.0</td>\n",
       "      <td>3.2</td>\n",
       "      <td>0.0</td>\n",
       "      <td>5</td>\n",
       "      <td>False</td>\n",
       "    </tr>\n",
       "  </tbody>\n",
       "</table>\n",
       "</div>"
      ],
      "text/plain": [
       "            month  day  wx_max_temp_c  wx_min_temp_c  wx_mean_temp_c  \\\n",
       "Date                                                                   \n",
       "2019-01-01      1    1            5.3            0.8             3.1   \n",
       "2019-01-02      1    2            5.5            2.4             4.0   \n",
       "2019-01-03      1    3            9.5            4.5             7.0   \n",
       "2019-01-04      1    4           10.4            6.1             8.3   \n",
       "2019-01-05      1    5            8.7            5.3             7.0   \n",
       "\n",
       "            wx_total_rain_mm  wx_total_snow_cm  wx_total_precip_mm  \\\n",
       "Date                                                                 \n",
       "2019-01-01               0.0               0.0                 0.0   \n",
       "2019-01-02               3.4               0.0                 3.4   \n",
       "2019-01-03              54.8               0.0                54.8   \n",
       "2019-01-04               9.6               0.0                 9.6   \n",
       "2019-01-05               3.2               0.0                 3.2   \n",
       "\n",
       "            wx_snow_on_grnd_cm  day_of_week  is_holiday  \n",
       "Date                                                     \n",
       "2019-01-01                 0.0            1        True  \n",
       "2019-01-02                 0.0            2       False  \n",
       "2019-01-03                 0.0            3       False  \n",
       "2019-01-04                 0.0            4       False  \n",
       "2019-01-05                 0.0            5       False  "
      ]
     },
     "execution_count": 2,
     "metadata": {},
     "output_type": "execute_result"
    }
   ],
   "source": [
    "# load the data\n",
    "train = pd.read_csv('train.csv', index_col='Date',parse_dates=True)\n",
    "test = pd.read_csv('test.csv', index_col='Date', parse_dates=True)\n",
    "\n",
    "# get the target variable and predictors\n",
    "y_train = train['Burrard_at_Cornwall']\n",
    "y_test = test['Burrard_at_Cornwall']\n",
    "X_train = train.drop(['Burrard_at_Cornwall'], axis=1)\n",
    "X_test = test.drop(['Burrard_at_Cornwall'], axis=1)\n",
    "X_train.head()"
   ]
  },
  {
   "cell_type": "markdown",
   "metadata": {},
   "source": [
    "## Set up the processing pipeline"
   ]
  },
  {
   "cell_type": "code",
   "execution_count": 3,
   "metadata": {},
   "outputs": [
    {
     "name": "stdout",
     "output_type": "stream",
     "text": [
      "['wx_total_rain_mm', 'wx_total_snow_cm', 'wx_total_precip_mm', 'wx_snow_on_grnd_cm']\n"
     ]
    }
   ],
   "source": [
    "# select columns with precipitation data\n",
    "# - missing values will be replaced by zero\n",
    "# - boolean variables will be created for each column\n",
    "precip_cols = [colname for colname in X_train.columns if\n",
    "               ('rain' in X_train[colname].name or\n",
    "               'snow' in X_train[colname].name or\n",
    "               'precip' in X_train[colname].name) and\n",
    "               X_train[colname].dtype in ['int64', 'float64']]\n",
    "print(precip_cols)"
   ]
  },
  {
   "cell_type": "code",
   "execution_count": 4,
   "metadata": {},
   "outputs": [],
   "source": [
    "# select date columns that don't have missing values\n",
    "pass_cols = ['month', 'day', 'day_of_week', 'is_holiday']"
   ]
  },
  {
   "cell_type": "code",
   "execution_count": 5,
   "metadata": {},
   "outputs": [
    {
     "name": "stdout",
     "output_type": "stream",
     "text": [
      "['wx_max_temp_c', 'wx_min_temp_c', 'wx_mean_temp_c']\n"
     ]
    }
   ],
   "source": [
    "# select columns with other temperature data - missing values will be interpolated\n",
    "temp_cols = [colname for colname in X_train.columns if \n",
    "                  colname not in precip_cols and\n",
    "                  colname not in pass_cols and\n",
    "                 X_train[colname].dtype in ['int64', 'float64']]\n",
    "print(temp_cols)"
   ]
  },
  {
   "cell_type": "code",
   "execution_count": 6,
   "metadata": {},
   "outputs": [],
   "source": [
    "# create custom transformer that interpolates missing values using Pandas ffill and bfill\n",
    "class InterpolateTransformer(BaseEstimator, TransformerMixin):\n",
    "        \n",
    "    def fit(self, X, y=None):\n",
    "        return self\n",
    "    \n",
    "    def transform(self, X, y=None):\n",
    "        result = (X.ffill() + X.bfill()) / 2\n",
    "        return result"
   ]
  },
  {
   "cell_type": "code",
   "execution_count": 7,
   "metadata": {},
   "outputs": [],
   "source": [
    "# preprocessing for precipitation data\n",
    "precip_transformer = Pipeline(steps=[\n",
    "    ('imputer', SimpleImputer(strategy='constant', fill_value=0)),\n",
    "    ('std_scaler', StandardScaler()),\n",
    "    ])\n",
    "\n",
    "precip_binarizer = Pipeline(steps=[\n",
    "    ('imputer', SimpleImputer(strategy='constant', fill_value=0)),\n",
    "    ('binarizer', Binarizer(threshold=0.0, copy=False)),\n",
    "    ])\n",
    "\n",
    "# preprocessing for temperature data\n",
    "temp_transformer = Pipeline(steps=[\n",
    "    ('interp', InterpolateTransformer()),\n",
    "    ('std_scaler', StandardScaler()),\n",
    "    ])"
   ]
  },
  {
   "cell_type": "markdown",
   "metadata": {},
   "source": [
    "## Baseline model: linear regression\n",
    "As the baseline model, I will fit a multiple linear regression with the precipitation, temperature, and date variables as features. "
   ]
  },
  {
   "cell_type": "code",
   "execution_count": 8,
   "metadata": {},
   "outputs": [
    {
     "name": "stdout",
     "output_type": "stream",
     "text": [
      "Linear regression MAE on training set: 592 bikes per day\n",
      "Linear regression MAE on test set: 482 bikes per day\n"
     ]
    }
   ],
   "source": [
    "# bundle preprocessing for all data\n",
    "preprocessor = ColumnTransformer(transformers=[\n",
    "        ('precip', precip_transformer, precip_cols),\n",
    "        ('temp', temp_transformer, temp_cols)],\n",
    "        remainder = 'passthrough')\n",
    "\n",
    "# define model\n",
    "model = linear_model.LinearRegression()\n",
    "\n",
    "# bundle preprocessing and modeling steps in a pipeline\n",
    "final_pipe = Pipeline(steps=[\n",
    "    ('preprocessor', preprocessor),\n",
    "    ('model', model)])\n",
    "\n",
    "# perform preprocessing and fit model on training data\n",
    "final_pipe.fit(X_train, y_train);\n",
    "\n",
    "# make predictions and get mean absolute error\n",
    "# training set\n",
    "y_pred = final_pipe.predict(X_train)\n",
    "ln_mae_train = mean_absolute_error(y_train, y_pred)\n",
    "print('Linear regression MAE on training set: %d bikes per day' % ln_mae_train)\n",
    "# test set\n",
    "y_pred = final_pipe.predict(X_test)\n",
    "ln_mae_test = mean_absolute_error(y_test, y_pred)\n",
    "print('Linear regression MAE on test set: %d bikes per day' % ln_mae_test)"
   ]
  },
  {
   "cell_type": "code",
   "execution_count": 9,
   "metadata": {},
   "outputs": [
    {
     "name": "stderr",
     "output_type": "stream",
     "text": [
      "//anaconda3/lib/python3.7/site-packages/pandas/plotting/_converter.py:129: FutureWarning: Using an implicitly registered datetime converter for a matplotlib plotting method. The converter was registered by pandas on import. Future versions of pandas will require you to explicitly register matplotlib converters.\n",
      "\n",
      "To register the converters:\n",
      "\t>>> from pandas.plotting import register_matplotlib_converters\n",
      "\t>>> register_matplotlib_converters()\n",
      "  warnings.warn(msg, FutureWarning)\n"
     ]
    },
    {
     "data": {
      "image/png": "[encoded data removed]",
      "text/plain": [
       "<Figure size 576x360 with 1 Axes>"
      ]
     },
     "metadata": {
      "needs_background": "light"
     },
     "output_type": "display_data"
    }
   ],
   "source": [
    "# create series with predicted values for plot\n",
    "y_pred_df = pd.Series(y_pred, index=y_test.index, name=y_test.name)\n",
    "y_pred_df.head()\n",
    "\n",
    "# mean daily bike count in the test set\n",
    "mean_y_test = y_test.mean()\n",
    "\n",
    "# plot true and predicted values\n",
    "fig, ax = plt.subplots(figsize=(8,5))\n",
    "line_test = ax.plot(y_test, label='true')\n",
    "line_pred = ax.plot(y_pred_df, label='predicted')\n",
    "ax.legend()\n",
    "ax.set_ylim(bottom=0)\n",
    "ax.set_xlabel('Date')\n",
    "ax.set_ylabel('Number of bikes')\n",
    "ax.set_title('Linear regression model: true vs predicted values');"
   ]
  },
  {
   "cell_type": "markdown",
   "metadata": {},
   "source": [
    "The mean absolute error of the model is quite large: the predictions are off, on average, by 482 bikes per day. The graph shows that the model does capture the larger fluctuations in the data. I don't expect any of the models to perform great, because the training data set is very small. Let's see if we can get better performance with a slightly more advanced model."
   ]
  },
  {
   "cell_type": "markdown",
   "metadata": {},
   "source": [
    "#### Preprocessing"
   ]
  },
  {
   "cell_type": "code",
   "execution_count": 10,
   "metadata": {},
   "outputs": [],
   "source": [
    "# bundle preprocessing, include binarizing of precipitation variables\n",
    "preprocessor = ColumnTransformer(transformers=[\n",
    "        ('precip', precip_transformer, precip_cols),\n",
    "        ('precip_b', precip_binarizer, precip_cols),\n",
    "        ('temp', temp_transformer, temp_cols)],\n",
    "        remainder = 'passthrough')\n",
    "\n",
    "# get variable names\n",
    "precip_cols_bool = [colname.replace('_mm', '_bool').replace('_cm', '_bool') \n",
    "                    for colname in precip_cols]\n",
    "rf_columns = precip_cols + precip_cols_bool + temp_cols + pass_cols"
   ]
  },
  {
   "cell_type": "markdown",
   "metadata": {},
   "source": [
    "#### Find optimal tree depth using cross validation\n",
    "I will estimate the optimal tree depth using k-fold cross-validation. This is not the best method for timeseries data like this. Ideally, one should use a method where the model is only validated forward in time, such as explained [here](https://towardsdatascience.com/time-series-nested-cross-validation-76adba623eb9). However, given the small size of the training set, I will split the data into three folds for 'regular' cross-validation."
   ]
  },
  {
   "cell_type": "code",
   "execution_count": 11,
   "metadata": {},
   "outputs": [],
   "source": [
    "def get_cv_score():\n",
    "    \"\"\"Return the average MAE over CV folds of random forest model.\n",
    "    \"\"\"\n",
    "    \n",
    "    # shuffle and split data\n",
    "    cv = ShuffleSplit(n_splits=3, test_size=.33, random_state=0)\n",
    "\n",
    "    # compute cross validation score \n",
    "    scores = -1 * cross_val_score(final_pipe, X_train, y_train, \n",
    "                                  cv=cv, scoring='neg_mean_absolute_error')\n",
    "    \n",
    "    return(scores.mean())"
   ]
  },
  {
   "cell_type": "code",
   "execution_count": 12,
   "metadata": {},
   "outputs": [
    {
     "data": {
      "image/png": "[encoded data removed]",
      "text/plain": [
       "<Figure size 576x360 with 1 Axes>"
      ]
     },
     "metadata": {
      "needs_background": "light"
     },
     "output_type": "display_data"
    }
   ],
   "source": [
    "# find optimal tree depth\n",
    "trees = range(100, 600, 100)\n",
    "results = {}\n",
    "for tree in trees:\n",
    "    \n",
    "    # bundle preprocessing and modeling code in a pipeline\n",
    "    final_pipe = Pipeline(steps=[\n",
    "        ('preprocessor', preprocessor),\n",
    "        ('model', RandomForestRegressor(n_estimators=tree, random_state=0))])\n",
    "    \n",
    "    # compute cross-validation score\n",
    "    results[tree] = get_cv_score()\n",
    "\n",
    "# plot MAE as a function of tree depth\n",
    "fig,ax = plt.subplots(figsize=(8,5))\n",
    "ax.plot(trees, list(results.values()), '.:')\n",
    "ax.set_xlabel('Tree depth')\n",
    "ax.set_ylabel('Average cross-validation MAE')\n",
    "ax.set_title('MAE as function of tree depth');"
   ]
  },
  {
   "cell_type": "markdown",
   "metadata": {},
   "source": [
    "#### Final model"
   ]
  },
  {
   "cell_type": "code",
   "execution_count": 13,
   "metadata": {},
   "outputs": [
    {
     "name": "stdout",
     "output_type": "stream",
     "text": [
      "Random forest regression MAE on training set: 184 bikes per day\n",
      "Random forest regression MAE on test set: 407 bikes per day\n"
     ]
    }
   ],
   "source": [
    "# fit final model\n",
    "trees = 400\n",
    "final_pipe = Pipeline(steps=[\n",
    "    ('preprocessor', preprocessor),\n",
    "    ('model', RandomForestRegressor(n_estimators=trees, random_state=0))])\n",
    "final_pipe.fit(X_train, y_train);\n",
    "\n",
    "# make predictions and get mean absolute error\n",
    "# training set\n",
    "y_pred = final_pipe.predict(X_train)\n",
    "rf_mae_train = mean_absolute_error(y_train, y_pred)\n",
    "print('Random forest regression MAE on training set: %d bikes per day' % rf_mae_train)\n",
    "# test set\n",
    "y_pred = final_pipe.predict(X_test)\n",
    "rf_mae_test = mean_absolute_error(y_test, y_pred)\n",
    "print('Random forest regression MAE on test set: %d bikes per day' % rf_mae_test)"
   ]
  },
  {
   "cell_type": "code",
   "execution_count": 14,
   "metadata": {},
   "outputs": [
    {
     "ename": "SyntaxError",
     "evalue": "invalid syntax (<ipython-input-14-d80c0107b915>, line 8)",
     "output_type": "error",
     "traceback": [
      "\u001b[0;36m  File \u001b[0;32m\"<ipython-input-14-d80c0107b915>\"\u001b[0;36m, line \u001b[0;32m8\u001b[0m\n\u001b[0;31m    line_pred = ax.plot(y_pred_df, label='predicted')ax.legend()\u001b[0m\n\u001b[0m                                                      ^\u001b[0m\n\u001b[0;31mSyntaxError\u001b[0m\u001b[0;31m:\u001b[0m invalid syntax\n"
     ]
    }
   ],
   "source": [
    "# create series with predicted values for plot\n",
    "y_pred_df = pd.Series(y_pred, index=y_test.index, name=y_test.name)\n",
    "y_pred_df.head()\n",
    "\n",
    "# plot true and predicted values\n",
    "fig, ax = plt.subplots(figsize=(8,5))\n",
    "line_test = ax.plot(y_test, label='true')\n",
    "line_pred = ax.plot(y_pred_df, label='predicted')ax.legend()\n",
    "ax.set_ylim(bottom=0)\n",
    "ax.set_xlabel('Date')\n",
    "ax.set_ylabel('Number of bikes')\n",
    "ax.set_title('Random forest regression model: true vs predicted values');"
   ]
  },
  {
   "cell_type": "markdown",
   "metadata": {},
   "source": [
    "This model performs slightly better than the linear regression model: the mean absolute error  is 407 bikes per day. Let's take a look at which features were the most important predictors."
   ]
  },
  {
   "cell_type": "markdown",
   "metadata": {},
   "source": [
    "#### Feature importance"
   ]
  },
  {
   "cell_type": "code",
   "execution_count": null,
   "metadata": {},
   "outputs": [],
   "source": [
    "# get feature importances\n",
    "importance = pd.DataFrame(final_pipe.named_steps['model'].feature_importances_,\n",
    "                          index=rf_columns, columns=['importance'])\n",
    "\n",
    "# plot\n",
    "fig, ax = plt.subplots(figsize=(8,5)) \n",
    "importance.sort_values(['importance'], ascending=False).plot.bar(ax=ax, legend=None)\n",
    "ax.set_title('Random forest regression model: feature importance');"
   ]
  },
  {
   "cell_type": "markdown",
   "metadata": {},
   "source": [
    "In this model, the maximum daily temperature was the single most important feature to predict daily bike counts. Total precipitation (rain and snow), total rain, and the day of the week were the next most important contributors, but with a much smaller importance. "
   ]
  }
 ],
 "metadata": {
  "kernelspec": {
   "display_name": "Python 3",
   "language": "python",
   "name": "python3"
  },
  "language_info": {
   "codemirror_mode": {
    "name": "ipython",
    "version": 3
   },
   "file_extension": ".py",
   "mimetype": "text/x-python",
   "name": "python",
   "nbconvert_exporter": "python",
   "pygments_lexer": "ipython3",
   "version": "3.7.3"
  }
 },
 "nbformat": 4,
 "nbformat_minor": 2
}
